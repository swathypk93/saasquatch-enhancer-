{
  "nbformat": 4,
  "nbformat_minor": 0,
  "metadata": {
    "colab": {
      "provenance": [],
      "authorship_tag": "ABX9TyOdwQnMuIoMNVIpD+shed5I",
      "include_colab_link": true
    },
    "kernelspec": {
      "name": "python3",
      "display_name": "Python 3"
    },
    "language_info": {
      "name": "python"
    }
  },
  "cells": [
    {
      "cell_type": "markdown",
      "metadata": {
        "id": "view-in-github",
        "colab_type": "text"
      },
      "source": [
        "<a href=\"https://colab.research.google.com/github/swathypk93/saasquatch-enhancer-/blob/main/caprae_project_report.ipynb\" target=\"_parent\"><img src=\"https://colab.research.google.com/assets/colab-badge.svg\" alt=\"Open In Colab\"/></a>"
      ]
    },
    {
      "cell_type": "markdown",
      "source": [
        "# Caprae AI-Readiness  Challenge\n",
        "\n",
        "## Project Title:\n",
        "**Smart Lead Scraper & Enricher (Lite Version)**\n",
        "\n",
        "##  Objective:\n",
        "To build a lean and functional tool that scrapes professional profiles and enriches them with contact data — helping companies quickly generate quality sales leads.\n",
        "\n",
        "---\n",
        "\n",
        "##  What It Does:\n",
        "- Scrapes Google Search results for relevant **LinkedIn profiles** (e.g., CEOs in Bangalore)\n",
        "- Extracts **name** and **LinkedIn URL**\n",
        "- Generates realistic **dummy email addresses**\n",
        "- Saves the enriched leads to a downloadable **CSV file**\n",
        "\n",
        "---\n",
        "\n",
        "##  Tools & Technologies Used:\n",
        "- Python\n",
        "- Google Colab\n",
        "- `googlesearch-python`, `pandas`, `re`\n",
        "- Colab file download module\n",
        "\n",
        "---\n",
        "\n",
        "##  Why This Adds Value:\n",
        "- Demonstrates business understanding of **lead generation workflows**\n",
        "- Simulates real-world **email enrichment** when paid API services aren't available\n",
        "- Code can easily be extended with **Hunter.io** or **Clearbit** for real use\n",
        "\n",
        "---\n",
        "\n",
        "##  Alignment with Caprae Goals:\n",
        "The tool enables efficient sourcing of relevant professionals from public platforms and enriches them for outbound contact — perfectly aligning with Caprae’s AI-first, operator-led approach to transforming businesses.\n",
        "\n",
        "---\n",
        "\n",
        "\n",
        "Please note that\n",
        " email enrichment was simulated using logic-based dummy email generation. This mimics real enrichment flow while maintaining deliverability."
      ],
      "metadata": {
        "id": "ErNPXxGYVs2i"
      }
    },
    {
      "cell_type": "code",
      "execution_count": null,
      "metadata": {
        "id": "egq-ERyOVrvx"
      },
      "outputs": [],
      "source": []
    }
  ]
}